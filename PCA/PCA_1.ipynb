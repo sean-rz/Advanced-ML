{
 "cells": [
  {
   "cell_type": "markdown",
   "metadata": {},
   "source": [
    "### Your Turn\n",
    "\n",
    "In the previous video, you saw an example of working with some MNIST digits data.  A link to the dataset can be found here: http://yann.lecun.com/exdb/mnist/.\n",
    "\n",
    "First, let's import the necessary libraries.  Notice, there are also some imports from a file called `helper_functions`, which contains the functions used in the previous video."
   ]
  },
  {
   "cell_type": "code",
   "execution_count": 1,
   "metadata": {},
   "outputs": [],
   "source": [
    "import pandas as pd\n",
    "import numpy as np\n",
    "from sklearn.decomposition import PCA\n",
    "from sklearn.preprocessing import StandardScaler\n",
    "from sklearn.ensemble import RandomForestClassifier\n",
    "from sklearn.model_selection import train_test_split\n",
    "from sklearn.metrics import confusion_matrix, accuracy_score\n",
    "from helper_functions import show_images, show_images_by_digit, fit_random_forest_classifier2 \n",
    "from helper_functions import fit_random_forest_classifier, do_pca, plot_components\n",
    "import test_code as t\n",
    "\n",
    "import matplotlib.image as mpimg\n",
    "import matplotlib.pyplot as plt\n",
    "import seaborn as sns\n",
    "\n",
    "%matplotlib inline"
   ]
  },
  {
   "cell_type": "markdown",
   "metadata": {},
   "source": [
    "`1.` Use pandas to read in the dataset, which can be found at the following address **'./data/train.csv'**.  Take a look at info about the data using `head`, `tail`, `describe`, `info`, etc.  You can learn more about the data values from the article here: https://homepages.inf.ed.ac.uk/rbf/HIPR2/value.htm."
   ]
  },
  {
   "cell_type": "code",
   "execution_count": 2,
   "metadata": {},
   "outputs": [],
   "source": [
    "train = pd.read_csv('./data/train.csv')\n",
    "train.fillna(0, inplace=True)"
   ]
  },
  {
   "cell_type": "code",
   "execution_count": 3,
   "metadata": {},
   "outputs": [
    {
     "data": {
      "text/html": [
       "<div>\n",
       "<style scoped>\n",
       "    .dataframe tbody tr th:only-of-type {\n",
       "        vertical-align: middle;\n",
       "    }\n",
       "\n",
       "    .dataframe tbody tr th {\n",
       "        vertical-align: top;\n",
       "    }\n",
       "\n",
       "    .dataframe thead th {\n",
       "        text-align: right;\n",
       "    }\n",
       "</style>\n",
       "<table border=\"1\" class=\"dataframe\">\n",
       "  <thead>\n",
       "    <tr style=\"text-align: right;\">\n",
       "      <th></th>\n",
       "      <th>label</th>\n",
       "      <th>pixel0</th>\n",
       "      <th>pixel1</th>\n",
       "      <th>pixel2</th>\n",
       "      <th>pixel3</th>\n",
       "      <th>pixel4</th>\n",
       "      <th>pixel5</th>\n",
       "      <th>pixel6</th>\n",
       "      <th>pixel7</th>\n",
       "      <th>pixel8</th>\n",
       "      <th>...</th>\n",
       "      <th>pixel774</th>\n",
       "      <th>pixel775</th>\n",
       "      <th>pixel776</th>\n",
       "      <th>pixel777</th>\n",
       "      <th>pixel778</th>\n",
       "      <th>pixel779</th>\n",
       "      <th>pixel780</th>\n",
       "      <th>pixel781</th>\n",
       "      <th>pixel782</th>\n",
       "      <th>pixel783</th>\n",
       "    </tr>\n",
       "  </thead>\n",
       "  <tbody>\n",
       "    <tr>\n",
       "      <th>0</th>\n",
       "      <td>1</td>\n",
       "      <td>0</td>\n",
       "      <td>0</td>\n",
       "      <td>0</td>\n",
       "      <td>0</td>\n",
       "      <td>0</td>\n",
       "      <td>0</td>\n",
       "      <td>0</td>\n",
       "      <td>0</td>\n",
       "      <td>0</td>\n",
       "      <td>...</td>\n",
       "      <td>0.0</td>\n",
       "      <td>0.0</td>\n",
       "      <td>0.0</td>\n",
       "      <td>0.0</td>\n",
       "      <td>0.0</td>\n",
       "      <td>0.0</td>\n",
       "      <td>0.0</td>\n",
       "      <td>0.0</td>\n",
       "      <td>0.0</td>\n",
       "      <td>0.0</td>\n",
       "    </tr>\n",
       "    <tr>\n",
       "      <th>1</th>\n",
       "      <td>0</td>\n",
       "      <td>0</td>\n",
       "      <td>0</td>\n",
       "      <td>0</td>\n",
       "      <td>0</td>\n",
       "      <td>0</td>\n",
       "      <td>0</td>\n",
       "      <td>0</td>\n",
       "      <td>0</td>\n",
       "      <td>0</td>\n",
       "      <td>...</td>\n",
       "      <td>0.0</td>\n",
       "      <td>0.0</td>\n",
       "      <td>0.0</td>\n",
       "      <td>0.0</td>\n",
       "      <td>0.0</td>\n",
       "      <td>0.0</td>\n",
       "      <td>0.0</td>\n",
       "      <td>0.0</td>\n",
       "      <td>0.0</td>\n",
       "      <td>0.0</td>\n",
       "    </tr>\n",
       "    <tr>\n",
       "      <th>2</th>\n",
       "      <td>1</td>\n",
       "      <td>0</td>\n",
       "      <td>0</td>\n",
       "      <td>0</td>\n",
       "      <td>0</td>\n",
       "      <td>0</td>\n",
       "      <td>0</td>\n",
       "      <td>0</td>\n",
       "      <td>0</td>\n",
       "      <td>0</td>\n",
       "      <td>...</td>\n",
       "      <td>0.0</td>\n",
       "      <td>0.0</td>\n",
       "      <td>0.0</td>\n",
       "      <td>0.0</td>\n",
       "      <td>0.0</td>\n",
       "      <td>0.0</td>\n",
       "      <td>0.0</td>\n",
       "      <td>0.0</td>\n",
       "      <td>0.0</td>\n",
       "      <td>0.0</td>\n",
       "    </tr>\n",
       "    <tr>\n",
       "      <th>3</th>\n",
       "      <td>4</td>\n",
       "      <td>0</td>\n",
       "      <td>0</td>\n",
       "      <td>0</td>\n",
       "      <td>0</td>\n",
       "      <td>0</td>\n",
       "      <td>0</td>\n",
       "      <td>0</td>\n",
       "      <td>0</td>\n",
       "      <td>0</td>\n",
       "      <td>...</td>\n",
       "      <td>0.0</td>\n",
       "      <td>0.0</td>\n",
       "      <td>0.0</td>\n",
       "      <td>0.0</td>\n",
       "      <td>0.0</td>\n",
       "      <td>0.0</td>\n",
       "      <td>0.0</td>\n",
       "      <td>0.0</td>\n",
       "      <td>0.0</td>\n",
       "      <td>0.0</td>\n",
       "    </tr>\n",
       "    <tr>\n",
       "      <th>4</th>\n",
       "      <td>0</td>\n",
       "      <td>0</td>\n",
       "      <td>0</td>\n",
       "      <td>0</td>\n",
       "      <td>0</td>\n",
       "      <td>0</td>\n",
       "      <td>0</td>\n",
       "      <td>0</td>\n",
       "      <td>0</td>\n",
       "      <td>0</td>\n",
       "      <td>...</td>\n",
       "      <td>0.0</td>\n",
       "      <td>0.0</td>\n",
       "      <td>0.0</td>\n",
       "      <td>0.0</td>\n",
       "      <td>0.0</td>\n",
       "      <td>0.0</td>\n",
       "      <td>0.0</td>\n",
       "      <td>0.0</td>\n",
       "      <td>0.0</td>\n",
       "      <td>0.0</td>\n",
       "    </tr>\n",
       "  </tbody>\n",
       "</table>\n",
       "<p>5 rows × 785 columns</p>\n",
       "</div>"
      ],
      "text/plain": [
       "   label  pixel0  pixel1  pixel2  pixel3  pixel4  pixel5  pixel6  pixel7  \\\n",
       "0      1       0       0       0       0       0       0       0       0   \n",
       "1      0       0       0       0       0       0       0       0       0   \n",
       "2      1       0       0       0       0       0       0       0       0   \n",
       "3      4       0       0       0       0       0       0       0       0   \n",
       "4      0       0       0       0       0       0       0       0       0   \n",
       "\n",
       "   pixel8    ...     pixel774  pixel775  pixel776  pixel777  pixel778  \\\n",
       "0       0    ...          0.0       0.0       0.0       0.0       0.0   \n",
       "1       0    ...          0.0       0.0       0.0       0.0       0.0   \n",
       "2       0    ...          0.0       0.0       0.0       0.0       0.0   \n",
       "3       0    ...          0.0       0.0       0.0       0.0       0.0   \n",
       "4       0    ...          0.0       0.0       0.0       0.0       0.0   \n",
       "\n",
       "   pixel779  pixel780  pixel781  pixel782  pixel783  \n",
       "0       0.0       0.0       0.0       0.0       0.0  \n",
       "1       0.0       0.0       0.0       0.0       0.0  \n",
       "2       0.0       0.0       0.0       0.0       0.0  \n",
       "3       0.0       0.0       0.0       0.0       0.0  \n",
       "4       0.0       0.0       0.0       0.0       0.0  \n",
       "\n",
       "[5 rows x 785 columns]"
      ]
     },
     "execution_count": 3,
     "metadata": {},
     "output_type": "execute_result"
    }
   ],
   "source": [
    "train.head()"
   ]
  },
  {
   "cell_type": "markdown",
   "metadata": {},
   "source": [
    "`2.` Create a vector called **y** that holds the **label** column of the dataset.  Store all other columns holding the pixel data of your images in **X**."
   ]
  },
  {
   "cell_type": "code",
   "execution_count": 4,
   "metadata": {},
   "outputs": [],
   "source": [
    "# save the labels to a Pandas series target\n",
    "y = train['label']\n",
    "\n",
    "# Drop the label feature\n",
    "X = train.drop(\"label\",axis=1)"
   ]
  },
  {
   "cell_type": "code",
   "execution_count": 5,
   "metadata": {},
   "outputs": [
    {
     "name": "stdout",
     "output_type": "stream",
     "text": [
      "That looks right!\n"
     ]
    }
   ],
   "source": [
    "#Check Your Solution \n",
    "t.question_two_check(y, X)"
   ]
  },
  {
   "cell_type": "markdown",
   "metadata": {},
   "source": [
    "`3.` Now use the `show_images_by_digit` function from the `helper_functions` module to take a look some of the `1`'s, `2`'s, `3`'s, or any other value you are interested in looking at.  Do they all look like what you would expect?"
   ]
  },
  {
   "cell_type": "code",
   "execution_count": 6,
   "metadata": {},
   "outputs": [
    {
     "name": "stderr",
     "output_type": "stream",
     "text": [
      "C:\\Users\\Soroosh-PC\\Documents\\data_science\\Advanced-ML\\PCA\\helper_functions.py:63: FutureWarning: Method .as_matrix will be removed in a future version. Use .values instead.\n",
      "  mat_data = X.iloc[indices[0][digit_num]].as_matrix().reshape(28,28)  #reshape images\n"
     ]
    },
    {
     "data": {
      "image/png": "[encoded data removed]",
      "text/plain": [
       "<Figure size 432x288 with 50 Axes>"
      ]
     },
     "metadata": {},
     "output_type": "display_data"
    }
   ],
   "source": [
    "show_images_by_digit(2) # Try looking at a few other digits"
   ]
  },
  {
   "cell_type": "code",
   "execution_count": 7,
   "metadata": {},
   "outputs": [
    {
     "data": {
      "image/png": "[encoded data removed]",
      "text/plain": [
       "<Figure size 432x288 with 50 Axes>"
      ]
     },
     "metadata": {},
     "output_type": "display_data"
    }
   ],
   "source": [
    "show_images_by_digit(4)"
   ]
  },
  {
   "cell_type": "markdown",
   "metadata": {},
   "source": [
    "`4.` Now that you have had a chance to look through some of the data, you can try some different algorithms to see what works well to use the X matrix to predict the response well.  If you would like to use the function I used in the video regarding random forests, you can run the code below, but you might also try any of the supervised techniques you learned in the previous course to see what works best.\n",
    "\n",
    "If you decide to put together your own classifier, remember the 4 steps to this process:\n",
    "\n",
    "**I.** Instantiate your model. (with all the hyperparameter values you care about)\n",
    "\n",
    "**II.** Fit your model. (to the training data)\n",
    "\n",
    "**III.** Predict using your fitted model.  (on the test data)\n",
    "\n",
    "**IV.** Score your model. (comparing the predictions to the actual values on the test data)\n",
    "\n",
    "You can also try a grid search to see if you can improve on your initial predictions."
   ]
  },
  {
   "cell_type": "code",
   "execution_count": 8,
   "metadata": {},
   "outputs": [
    {
     "name": "stdout",
     "output_type": "stream",
     "text": [
      "[[201   0   2   0   0   0   6   0   0   0]\n",
      " [  0 235   3   0   0   0   1   2   2   0]\n",
      " [  1   5 213   1   1   0   1   4   1   1]\n",
      " [  3   0   4 174   0   4   0   1   2   3]\n",
      " [  1   0   0   0 169   0   1   0   0   7]\n",
      " [  2   2   0   4   2 172   3   0   1   0]\n",
      " [  3   0   1   0   2   3 201   0   1   0]\n",
      " [  0   1   9   0   6   0   0 204   1   4]\n",
      " [  1   1   0   5   1   2   2   0 189   1]\n",
      " [  1   0   2   3   9   2   1   2   4 184]]\n",
      "0.9332051898125902\n"
     ]
    },
    {
     "data": {
      "text/plain": [
       "0.9332051898125902"
      ]
     },
     "execution_count": 8,
     "metadata": {},
     "output_type": "execute_result"
    }
   ],
   "source": [
    "fit_random_forest_classifier(X, y)"
   ]
  },
  {
   "cell_type": "markdown",
   "metadata": {},
   "source": [
    "`5.` Now the purpose of this lesson, to look at PCA.  In the video, I created a model just using two features.  Replicate the process below. You can use the same `do_pca` function that was created in the previous video.  Store your variables in **pca** and **X_pca**."
   ]
  },
  {
   "cell_type": "code",
   "execution_count": 9,
   "metadata": {},
   "outputs": [
    {
     "name": "stderr",
     "output_type": "stream",
     "text": [
      "c:\\users\\soroosh-pc\\appdata\\local\\programs\\python\\python37\\lib\\site-packages\\sklearn\\preprocessing\\data.py:617: DataConversionWarning: Data with input dtype int64, float64 were all converted to float64 by StandardScaler.\n",
      "  return self.partial_fit(X, y)\n",
      "c:\\users\\soroosh-pc\\appdata\\local\\programs\\python\\python37\\lib\\site-packages\\sklearn\\base.py:462: DataConversionWarning: Data with input dtype int64, float64 were all converted to float64 by StandardScaler.\n",
      "  return self.fit(X, **fit_params).transform(X)\n"
     ]
    }
   ],
   "source": [
    "pca, X_pca = do_pca(2, X) #performs PCA to create two components"
   ]
  },
  {
   "cell_type": "markdown",
   "metadata": {},
   "source": [
    "`6.` The **X_pca** has moved the original more than 700 features down to only 2 features that capture the majority of the variability in the pixel values.  Use the space below to fit a model using these two features to predict the written value.  You can use the random forest model by running `fit_random_forest_classifier` the same way as in the video. How well does it perform?"
   ]
  },
  {
   "cell_type": "code",
   "execution_count": 10,
   "metadata": {},
   "outputs": [
    {
     "name": "stdout",
     "output_type": "stream",
     "text": [
      "[[109   0  36  12   7  10  29   0   6   0]\n",
      " [  0 208   0   3   1  10   3   6   7   5]\n",
      " [ 37   2  73  24  15  20  40   1  12   4]\n",
      " [ 10   2  32  22  23  29  25  15  23  10]\n",
      " [  5   4  17  17  48  15  19  12  12  29]\n",
      " [  9   7  28  25  17  22  28   4  36  10]\n",
      " [ 30   4  52  18   9  31  40   3  23   1]\n",
      " [  3   5   6   8  35   9   3  95   6  55]\n",
      " [  8   6  26  31  20  30  25   8  39   9]\n",
      " [  2  13   3  16  29  15   3  56   7  64]]\n",
      "0.3459875060067275\n"
     ]
    },
    {
     "data": {
      "text/plain": [
       "0.3459875060067275"
      ]
     },
     "execution_count": 10,
     "metadata": {},
     "output_type": "execute_result"
    }
   ],
   "source": [
    "fit_random_forest_classifier(X_pca, y)"
   ]
  },
  {
   "cell_type": "markdown",
   "metadata": {},
   "source": [
    "`7.` Now you can look at the separation of the values using the `plot_components` function.  If you plot all of the points (more than 40,000), you will likely not be able to see much of what is happening.  I recommend plotting just a subset of the data.  Which value(s) have some separation that are being predicted better than others based on these two components?"
   ]
  },
  {
   "cell_type": "code",
   "execution_count": 11,
   "metadata": {},
   "outputs": [
    {
     "data": {
      "image/png": "[encoded data removed]",
      "text/plain": [
       "<Figure size 720x432 with 1 Axes>"
      ]
     },
     "metadata": {},
     "output_type": "display_data"
    }
   ],
   "source": [
    "plot_components(X_pca[:100], y[:100])"
   ]
  },
  {
   "cell_type": "markdown",
   "metadata": {},
   "source": [
    "`8.` See if you can find a reduced number of features that provides better separation to make predictions.  Say you want to get separation that allows for accuracy of more than 90%, how many principal components are needed to obtain this level of accuracy?  Were you able to substantially reduce the number of features needed in your final model?"
   ]
  },
  {
   "cell_type": "code",
   "execution_count": 12,
   "metadata": {},
   "outputs": [
    {
     "name": "stderr",
     "output_type": "stream",
     "text": [
      "c:\\users\\soroosh-pc\\appdata\\local\\programs\\python\\python37\\lib\\site-packages\\sklearn\\preprocessing\\data.py:617: DataConversionWarning: Data with input dtype int64, float64 were all converted to float64 by StandardScaler.\n",
      "  return self.partial_fit(X, y)\n",
      "c:\\users\\soroosh-pc\\appdata\\local\\programs\\python\\python37\\lib\\site-packages\\sklearn\\base.py:462: DataConversionWarning: Data with input dtype int64, float64 were all converted to float64 by StandardScaler.\n",
      "  return self.fit(X, **fit_params).transform(X)\n"
     ]
    },
    {
     "name": "stdout",
     "output_type": "stream",
     "text": [
      "[[112   0  42   9   6   9  22   0   9   0]\n",
      " [  0 206   0   4   2   9   4   8   7   3]\n",
      " [ 39   1  74  23  14  24  34   2  14   3]\n",
      " [ 10   1  28  27  22  27  25  11  27  13]\n",
      " [  5   5  18  24  47  12  15  10  14  28]\n",
      " [ 11   8  30  25  15  24  23   4  35  11]\n",
      " [ 30   4  55  20   9  23  41   3  24   2]\n",
      " [  2   3   5   9  34   8   3  95   8  58]\n",
      " [  6   5  27  29  23  33  23   6  40  10]\n",
      " [  2  12   3  16  30  11   4  60   9  61]]\n",
      "0.3493512734262374\n"
     ]
    },
    {
     "name": "stderr",
     "output_type": "stream",
     "text": [
      "c:\\users\\soroosh-pc\\appdata\\local\\programs\\python\\python37\\lib\\site-packages\\sklearn\\preprocessing\\data.py:617: DataConversionWarning: Data with input dtype int64, float64 were all converted to float64 by StandardScaler.\n",
      "  return self.partial_fit(X, y)\n",
      "c:\\users\\soroosh-pc\\appdata\\local\\programs\\python\\python37\\lib\\site-packages\\sklearn\\base.py:462: DataConversionWarning: Data with input dtype int64, float64 were all converted to float64 by StandardScaler.\n",
      "  return self.fit(X, **fit_params).transform(X)\n"
     ]
    },
    {
     "name": "stdout",
     "output_type": "stream",
     "text": [
      "[[158   0   8   4   1   8  21   1   8   0]\n",
      " [  0 224   1   4   2   4   6   0   2   0]\n",
      " [ 19   3 119  34   4   5  40   0   3   1]\n",
      " [  3   3  54  61   6  12  28   3  16   5]\n",
      " [  9   0   3   3  96  15   1  13  12  26]\n",
      " [  7   0   9  16  23  60  29   7  29   6]\n",
      " [ 20   5  22  19   2   8 123   0  12   0]\n",
      " [  1   2   0   4  23   8   1 116   9  61]\n",
      " [ 16   3   8  29  25  33  34   1  50   3]\n",
      " [  2   2   1   2  47   2   1  53   8  90]]\n",
      "0.5271504084574724\n"
     ]
    },
    {
     "name": "stderr",
     "output_type": "stream",
     "text": [
      "c:\\users\\soroosh-pc\\appdata\\local\\programs\\python\\python37\\lib\\site-packages\\sklearn\\preprocessing\\data.py:617: DataConversionWarning: Data with input dtype int64, float64 were all converted to float64 by StandardScaler.\n",
      "  return self.partial_fit(X, y)\n",
      "c:\\users\\soroosh-pc\\appdata\\local\\programs\\python\\python37\\lib\\site-packages\\sklearn\\base.py:462: DataConversionWarning: Data with input dtype int64, float64 were all converted to float64 by StandardScaler.\n",
      "  return self.fit(X, **fit_params).transform(X)\n"
     ]
    },
    {
     "name": "stdout",
     "output_type": "stream",
     "text": [
      "[[174   0   9   0   4  10   5   0   7   0]\n",
      " [  0 226   1   1   0   5   3   1   6   0]\n",
      " [ 13   1 163  12   7   7  21   0   3   1]\n",
      " [  2   0  21 117   0  14   2   2  30   3]\n",
      " [  4   0   5   1 127   1   6  12   1  21]\n",
      " [  6   0   6  27  15  83   3   6  32   8]\n",
      " [  4   1  28   0   3   2 172   0   1   0]\n",
      " [  4   4   3   0  20   3   0 135  10  46]\n",
      " [ 17   6   5  30   4  40   1   6  93   0]\n",
      " [  3   1   3   1  45   5   1  41   7 101]]\n",
      "0.6684286400768861\n"
     ]
    },
    {
     "name": "stderr",
     "output_type": "stream",
     "text": [
      "c:\\users\\soroosh-pc\\appdata\\local\\programs\\python\\python37\\lib\\site-packages\\sklearn\\preprocessing\\data.py:617: DataConversionWarning: Data with input dtype int64, float64 were all converted to float64 by StandardScaler.\n",
      "  return self.partial_fit(X, y)\n",
      "c:\\users\\soroosh-pc\\appdata\\local\\programs\\python\\python37\\lib\\site-packages\\sklearn\\base.py:462: DataConversionWarning: Data with input dtype int64, float64 were all converted to float64 by StandardScaler.\n",
      "  return self.fit(X, **fit_params).transform(X)\n"
     ]
    },
    {
     "name": "stdout",
     "output_type": "stream",
     "text": [
      "[[176   0  10   0   4   5   5   0   8   1]\n",
      " [  0 229   2   1   0   2   2   1   6   0]\n",
      " [ 12   2 176  10   5   7  14   0   2   0]\n",
      " [  2   0  28 119   0  13   0   2  25   2]\n",
      " [  3   0   1   0 124   3  10   6   2  29]\n",
      " [  8   1  10  25   4  92   2   8  30   6]\n",
      " [  2   0  15   0   5   0 188   0   1   0]\n",
      " [  3   4   6   2  15   5   0 170   4  16]\n",
      " [ 15   4   4  20   5  44   1   2 107   0]\n",
      " [  2   1   1   1  50   7   1  20   3 122]]\n",
      "0.7222489187890437\n"
     ]
    },
    {
     "name": "stderr",
     "output_type": "stream",
     "text": [
      "c:\\users\\soroosh-pc\\appdata\\local\\programs\\python\\python37\\lib\\site-packages\\sklearn\\preprocessing\\data.py:617: DataConversionWarning: Data with input dtype int64, float64 were all converted to float64 by StandardScaler.\n",
      "  return self.partial_fit(X, y)\n",
      "c:\\users\\soroosh-pc\\appdata\\local\\programs\\python\\python37\\lib\\site-packages\\sklearn\\base.py:462: DataConversionWarning: Data with input dtype int64, float64 were all converted to float64 by StandardScaler.\n",
      "  return self.fit(X, **fit_params).transform(X)\n"
     ]
    },
    {
     "name": "stdout",
     "output_type": "stream",
     "text": [
      "[[177   0   5   0   3  11   9   0   3   1]\n",
      " [  0 231   2   1   0   0   2   0   7   0]\n",
      " [  3   2 202   6   5   1   2   2   5   0]\n",
      " [  1   0  17 134   0  12   3   2  21   1]\n",
      " [  0   0   3   0 128   1  10   6   1  29]\n",
      " [  8   0   2  11   3 145   2   5   8   2]\n",
      " [  4   0   4   1   5   0 196   0   1   0]\n",
      " [  2   2   6   0  12   0   0 181   5  17]\n",
      " [  1   3   6  19   5  15   2   2 148   1]\n",
      " [  1   2   1   1  52   2   1  24  10 114]]\n",
      "0.7957712638154734\n"
     ]
    },
    {
     "name": "stderr",
     "output_type": "stream",
     "text": [
      "c:\\users\\soroosh-pc\\appdata\\local\\programs\\python\\python37\\lib\\site-packages\\sklearn\\preprocessing\\data.py:617: DataConversionWarning: Data with input dtype int64, float64 were all converted to float64 by StandardScaler.\n",
      "  return self.partial_fit(X, y)\n",
      "c:\\users\\soroosh-pc\\appdata\\local\\programs\\python\\python37\\lib\\site-packages\\sklearn\\base.py:462: DataConversionWarning: Data with input dtype int64, float64 were all converted to float64 by StandardScaler.\n",
      "  return self.fit(X, **fit_params).transform(X)\n"
     ]
    },
    {
     "name": "stdout",
     "output_type": "stream",
     "text": [
      "[[176   0   6   0   3  12   8   0   3   1]\n",
      " [  0 231   2   1   0   0   2   0   7   0]\n",
      " [  3   2 203   6   6   0   3   2   3   0]\n",
      " [  1   1  18 132   0  11   1   3  22   2]\n",
      " [  0   0   3   0 134   1   5   7   2  26]\n",
      " [  7   0   2  11   5 146   2   3   8   2]\n",
      " [  4   0   5   1   4   0 196   0   1   0]\n",
      " [  1   2   6   0   8   0   1 180   7  20]\n",
      " [  1   2   3  18   3  16   2   2 153   2]\n",
      " [  1   1   0   1  47   2   1  21  11 123]]\n",
      "0.8044209514656415\n"
     ]
    },
    {
     "name": "stderr",
     "output_type": "stream",
     "text": [
      "c:\\users\\soroosh-pc\\appdata\\local\\programs\\python\\python37\\lib\\site-packages\\sklearn\\preprocessing\\data.py:617: DataConversionWarning: Data with input dtype int64, float64 were all converted to float64 by StandardScaler.\n",
      "  return self.partial_fit(X, y)\n",
      "c:\\users\\soroosh-pc\\appdata\\local\\programs\\python\\python37\\lib\\site-packages\\sklearn\\base.py:462: DataConversionWarning: Data with input dtype int64, float64 were all converted to float64 by StandardScaler.\n",
      "  return self.fit(X, **fit_params).transform(X)\n"
     ]
    },
    {
     "name": "stdout",
     "output_type": "stream",
     "text": [
      "[[185   0   3   0   0  10   9   0   1   1]\n",
      " [  0 232   2   2   0   0   2   0   5   0]\n",
      " [  2   2 204   4   4   1   4   3   4   0]\n",
      " [  3   0  15 154   0   6   0   0  10   3]\n",
      " [  0   0   1   0 134   2   6   3   2  30]\n",
      " [  7   0   3   9   5 147   3   1   6   5]\n",
      " [  4   0   5   0   2   0 198   0   2   0]\n",
      " [  0   0   5   1   6   1   1 197   3  11]\n",
      " [  1   2   1  15   4  14   0   2 162   1]\n",
      " [  0   0   0   1  47   1   1  20  11 127]]\n",
      "0.8361364728495916\n"
     ]
    },
    {
     "name": "stderr",
     "output_type": "stream",
     "text": [
      "c:\\users\\soroosh-pc\\appdata\\local\\programs\\python\\python37\\lib\\site-packages\\sklearn\\preprocessing\\data.py:617: DataConversionWarning: Data with input dtype int64, float64 were all converted to float64 by StandardScaler.\n",
      "  return self.partial_fit(X, y)\n",
      "c:\\users\\soroosh-pc\\appdata\\local\\programs\\python\\python37\\lib\\site-packages\\sklearn\\base.py:462: DataConversionWarning: Data with input dtype int64, float64 were all converted to float64 by StandardScaler.\n",
      "  return self.fit(X, **fit_params).transform(X)\n"
     ]
    },
    {
     "name": "stdout",
     "output_type": "stream",
     "text": [
      "[[187   0   2   1   1  10   7   0   1   0]\n",
      " [  0 232   3   0   0   0   2   0   6   0]\n",
      " [  1   2 206   7   4   1   3   3   1   0]\n",
      " [  1   0  16 153   0   9   0   2   9   1]\n",
      " [  0   0   2   0 137   2   8   2   2  25]\n",
      " [  9   0   1   6   4 154   0   0   9   3]\n",
      " [  4   0   3   0   2   0 201   0   1   0]\n",
      " [  0   2   5   1   5   0   1 192   7  12]\n",
      " [  2   2   1   7   3  13   0   1 171   2]\n",
      " [  2   0   0   1  42   1   1  15   8 138]]\n",
      "0.8510331571359923\n"
     ]
    },
    {
     "name": "stderr",
     "output_type": "stream",
     "text": [
      "c:\\users\\soroosh-pc\\appdata\\local\\programs\\python\\python37\\lib\\site-packages\\sklearn\\preprocessing\\data.py:617: DataConversionWarning: Data with input dtype int64, float64 were all converted to float64 by StandardScaler.\n",
      "  return self.partial_fit(X, y)\n",
      "c:\\users\\soroosh-pc\\appdata\\local\\programs\\python\\python37\\lib\\site-packages\\sklearn\\base.py:462: DataConversionWarning: Data with input dtype int64, float64 were all converted to float64 by StandardScaler.\n",
      "  return self.fit(X, **fit_params).transform(X)\n"
     ]
    },
    {
     "name": "stdout",
     "output_type": "stream",
     "text": [
      "[[188   0   4   0   1   6   7   1   1   1]\n",
      " [  0 231   2   0   0   1   2   0   7   0]\n",
      " [  2   3 208   4   2   1   2   3   3   0]\n",
      " [  1   0  13 155   0   7   1   3  10   1]\n",
      " [  0   0   1   0 147   1   6   2   1  20]\n",
      " [  6   0   3   7   6 150   0   0   9   5]\n",
      " [  5   0   1   0   4   0 200   0   1   0]\n",
      " [  1   2   4   1   5   0   1 191   7  13]\n",
      " [  3   1   2   8   4  10   0   1 170   3]\n",
      " [  1   0   0   1  31   3   1  19   9 143]]\n",
      "0.8567996155694377\n"
     ]
    },
    {
     "name": "stderr",
     "output_type": "stream",
     "text": [
      "c:\\users\\soroosh-pc\\appdata\\local\\programs\\python\\python37\\lib\\site-packages\\sklearn\\preprocessing\\data.py:617: DataConversionWarning: Data with input dtype int64, float64 were all converted to float64 by StandardScaler.\n",
      "  return self.partial_fit(X, y)\n",
      "c:\\users\\soroosh-pc\\appdata\\local\\programs\\python\\python37\\lib\\site-packages\\sklearn\\base.py:462: DataConversionWarning: Data with input dtype int64, float64 were all converted to float64 by StandardScaler.\n",
      "  return self.fit(X, **fit_params).transform(X)\n"
     ]
    },
    {
     "name": "stdout",
     "output_type": "stream",
     "text": [
      "[[191   0   3   0   0   5   8   1   1   0]\n",
      " [  0 231   2   2   0   1   2   0   5   0]\n",
      " [  2   2 208   3   3   0   3   3   4   0]\n",
      " [  1   0  11 158   0   6   1   2  10   2]\n",
      " [  0   0   3   0 145   1   4   2   1  22]\n",
      " [  7   0   2   6   3 149   1   0  10   8]\n",
      " [  6   0   0   0   4   1 200   0   0   0]\n",
      " [  1   2   4   1   6   0   1 194   5  11]\n",
      " [  2   2   3   9   4  13   0   0 168   1]\n",
      " [  2   0   1   1  30   0   0  16   9 149]]\n",
      "0.861604997597309\n"
     ]
    },
    {
     "name": "stderr",
     "output_type": "stream",
     "text": [
      "c:\\users\\soroosh-pc\\appdata\\local\\programs\\python\\python37\\lib\\site-packages\\sklearn\\preprocessing\\data.py:617: DataConversionWarning: Data with input dtype int64, float64 were all converted to float64 by StandardScaler.\n",
      "  return self.partial_fit(X, y)\n",
      "c:\\users\\soroosh-pc\\appdata\\local\\programs\\python\\python37\\lib\\site-packages\\sklearn\\base.py:462: DataConversionWarning: Data with input dtype int64, float64 were all converted to float64 by StandardScaler.\n",
      "  return self.fit(X, **fit_params).transform(X)\n"
     ]
    },
    {
     "name": "stdout",
     "output_type": "stream",
     "text": [
      "[[191   0   4   0   0   4   7   1   1   1]\n",
      " [  0 232   2   2   0   1   2   0   4   0]\n",
      " [  2   2 209   4   2   0   2   3   4   0]\n",
      " [  1   0  12 156   0   8   1   2  11   0]\n",
      " [  0   0   2   0 144   1   6   3   1  21]\n",
      " [  6   0   2   7   3 156   1   0   6   5]\n",
      " [  5   0   1   0   2   0 202   0   1   0]\n",
      " [  1   1   3   1   5   0   1 195   7  11]\n",
      " [  2   2   3   9   3  11   0   1 171   0]\n",
      " [  2   0   1   2  33   0   0  17   8 145]]\n",
      "0.865449303219606\n"
     ]
    },
    {
     "name": "stderr",
     "output_type": "stream",
     "text": [
      "c:\\users\\soroosh-pc\\appdata\\local\\programs\\python\\python37\\lib\\site-packages\\sklearn\\preprocessing\\data.py:617: DataConversionWarning: Data with input dtype int64, float64 were all converted to float64 by StandardScaler.\n",
      "  return self.partial_fit(X, y)\n",
      "c:\\users\\soroosh-pc\\appdata\\local\\programs\\python\\python37\\lib\\site-packages\\sklearn\\base.py:462: DataConversionWarning: Data with input dtype int64, float64 were all converted to float64 by StandardScaler.\n",
      "  return self.fit(X, **fit_params).transform(X)\n"
     ]
    },
    {
     "name": "stdout",
     "output_type": "stream",
     "text": [
      "[[193   0   3   1   0   3   7   1   1   0]\n",
      " [  0 232   2   2   0   0   2   0   4   1]\n",
      " [  2   2 206   3   2   1   5   3   4   0]\n",
      " [  1   0  10 165   0   4   1   2   6   2]\n",
      " [  0   0   3   0 143   1   6   3   1  21]\n",
      " [  2   0   2   9   5 156   0   0   6   6]\n",
      " [  4   0   1   0   2   0 202   1   1   0]\n",
      " [  1   1   7   2   3   0   1 197   3  10]\n",
      " [  2   1   2  11   2  10   1   0 172   1]\n",
      " [  3   0   1   3  35   1   0  22   6 137]]\n",
      "0.8664103796251802\n"
     ]
    },
    {
     "name": "stderr",
     "output_type": "stream",
     "text": [
      "c:\\users\\soroosh-pc\\appdata\\local\\programs\\python\\python37\\lib\\site-packages\\sklearn\\preprocessing\\data.py:617: DataConversionWarning: Data with input dtype int64, float64 were all converted to float64 by StandardScaler.\n",
      "  return self.partial_fit(X, y)\n",
      "c:\\users\\soroosh-pc\\appdata\\local\\programs\\python\\python37\\lib\\site-packages\\sklearn\\base.py:462: DataConversionWarning: Data with input dtype int64, float64 were all converted to float64 by StandardScaler.\n",
      "  return self.fit(X, **fit_params).transform(X)\n"
     ]
    },
    {
     "name": "stdout",
     "output_type": "stream",
     "text": [
      "[[191   0   3   0   0   4   7   2   1   1]\n",
      " [  0 233   3   0   0   1   2   0   4   0]\n",
      " [  3   2 206   7   2   0   2   3   3   0]\n",
      " [  1   0   6 167   0   3   2   2   7   3]\n",
      " [  0   0   5   0 148   1   4   2   2  16]\n",
      " [  3   0   3   8   1 162   1   0   5   3]\n",
      " [  6   0   1   0   3   0 200   0   1   0]\n",
      " [  1   2   7   2   2   0   1 192   5  13]\n",
      " [  3   2   1  11   1   8   0   0 174   2]\n",
      " [  2   0   2   1  29   1   0  19   5 149]]\n",
      "0.8755406054781355\n"
     ]
    },
    {
     "name": "stderr",
     "output_type": "stream",
     "text": [
      "c:\\users\\soroosh-pc\\appdata\\local\\programs\\python\\python37\\lib\\site-packages\\sklearn\\preprocessing\\data.py:617: DataConversionWarning: Data with input dtype int64, float64 were all converted to float64 by StandardScaler.\n",
      "  return self.partial_fit(X, y)\n",
      "c:\\users\\soroosh-pc\\appdata\\local\\programs\\python\\python37\\lib\\site-packages\\sklearn\\base.py:462: DataConversionWarning: Data with input dtype int64, float64 were all converted to float64 by StandardScaler.\n",
      "  return self.fit(X, **fit_params).transform(X)\n"
     ]
    },
    {
     "name": "stdout",
     "output_type": "stream",
     "text": [
      "[[190   0   4   0   0   3  10   1   1   0]\n",
      " [  0 233   2   0   0   0   2   0   5   1]\n",
      " [  2   2 207   5   3   0   3   3   3   0]\n",
      " [  0   0  10 159   0   7   2   2  10   1]\n",
      " [  0   0   3   0 157   1   5   1   0  11]\n",
      " [  2   0   4   4   3 164   3   0   3   3]\n",
      " [  4   0   2   1   2   1 199   1   1   0]\n",
      " [  1   2   5   2   3   0   1 196   4  11]\n",
      " [  1   2   2  15   1   9   0   0 171   1]\n",
      " [  1   0   2   3  23   1   0  13   2 163]]\n",
      "0.8837097549255166\n"
     ]
    },
    {
     "name": "stderr",
     "output_type": "stream",
     "text": [
      "c:\\users\\soroosh-pc\\appdata\\local\\programs\\python\\python37\\lib\\site-packages\\sklearn\\preprocessing\\data.py:617: DataConversionWarning: Data with input dtype int64, float64 were all converted to float64 by StandardScaler.\n",
      "  return self.partial_fit(X, y)\n",
      "c:\\users\\soroosh-pc\\appdata\\local\\programs\\python\\python37\\lib\\site-packages\\sklearn\\base.py:462: DataConversionWarning: Data with input dtype int64, float64 were all converted to float64 by StandardScaler.\n",
      "  return self.fit(X, **fit_params).transform(X)\n"
     ]
    },
    {
     "name": "stdout",
     "output_type": "stream",
     "text": [
      "[[189   0   3   1   0   4   8   2   1   1]\n",
      " [  0 233   2   0   0   0   2   0   5   1]\n",
      " [  1   2 205   8   3   0   4   4   1   0]\n",
      " [  0   0  10 168   0   3   1   2   5   2]\n",
      " [  0   0   4   0 157   1   4   1   1  10]\n",
      " [  1   0   3   7   2 164   2   0   3   4]\n",
      " [  4   0   1   0   1   2 201   1   1   0]\n",
      " [  0   1   6   2   4   0   1 194   4  13]\n",
      " [  2   2   1  12   0   6   0   0 177   2]\n",
      " [  2   0   2   3  14   0   0  16   2 169]]\n",
      "0.8923594425756848\n"
     ]
    },
    {
     "name": "stderr",
     "output_type": "stream",
     "text": [
      "c:\\users\\soroosh-pc\\appdata\\local\\programs\\python\\python37\\lib\\site-packages\\sklearn\\preprocessing\\data.py:617: DataConversionWarning: Data with input dtype int64, float64 were all converted to float64 by StandardScaler.\n",
      "  return self.partial_fit(X, y)\n",
      "c:\\users\\soroosh-pc\\appdata\\local\\programs\\python\\python37\\lib\\site-packages\\sklearn\\base.py:462: DataConversionWarning: Data with input dtype int64, float64 were all converted to float64 by StandardScaler.\n",
      "  return self.fit(X, **fit_params).transform(X)\n"
     ]
    },
    {
     "name": "stdout",
     "output_type": "stream",
     "text": [
      "[[190   0   3   1   0   4   8   1   1   1]\n",
      " [  0 234   2   0   0   0   2   0   4   1]\n",
      " [  2   2 206   5   2   0   3   3   4   1]\n",
      " [  1   0   8 171   0   1   0   2   5   3]\n",
      " [  0   0   3   0 155   1   5   1   0  13]\n",
      " [  2   0   3   7   2 160   1   0   7   4]\n",
      " [  4   0   1   0   2   1 202   0   1   0]\n",
      " [  0   1   4   2   4   0   1 197   4  12]\n",
      " [  2   2   0  12   1   8   0   0 175   2]\n",
      " [  1   0   1   2  17   0   0  18   3 166]]\n",
      "0.8918789043728976\n"
     ]
    },
    {
     "name": "stderr",
     "output_type": "stream",
     "text": [
      "c:\\users\\soroosh-pc\\appdata\\local\\programs\\python\\python37\\lib\\site-packages\\sklearn\\preprocessing\\data.py:617: DataConversionWarning: Data with input dtype int64, float64 were all converted to float64 by StandardScaler.\n",
      "  return self.partial_fit(X, y)\n",
      "c:\\users\\soroosh-pc\\appdata\\local\\programs\\python\\python37\\lib\\site-packages\\sklearn\\base.py:462: DataConversionWarning: Data with input dtype int64, float64 were all converted to float64 by StandardScaler.\n",
      "  return self.fit(X, **fit_params).transform(X)\n"
     ]
    },
    {
     "name": "stdout",
     "output_type": "stream",
     "text": [
      "[[189   0   4   0   0   4   8   1   2   1]\n",
      " [  0 234   2   1   0   1   2   0   3   0]\n",
      " [  3   2 210   3   2   0   2   2   2   2]\n",
      " [  0   0   8 164   0   9   0   2   5   3]\n",
      " [  0   0   3   0 156   1   4   1   0  13]\n",
      " [  3   0   4   7   1 159   1   0   6   5]\n",
      " [  4   0   2   0   3   0 201   0   1   0]\n",
      " [  1   1   4   2   5   0   0 195   5  12]\n",
      " [  2   2   1  11   1   9   0   0 174   2]\n",
      " [  1   0   1   2  11   1   0  14   2 176]]\n",
      "0.8928399807784719\n"
     ]
    },
    {
     "name": "stderr",
     "output_type": "stream",
     "text": [
      "c:\\users\\soroosh-pc\\appdata\\local\\programs\\python\\python37\\lib\\site-packages\\sklearn\\preprocessing\\data.py:617: DataConversionWarning: Data with input dtype int64, float64 were all converted to float64 by StandardScaler.\n",
      "  return self.partial_fit(X, y)\n",
      "c:\\users\\soroosh-pc\\appdata\\local\\programs\\python\\python37\\lib\\site-packages\\sklearn\\base.py:462: DataConversionWarning: Data with input dtype int64, float64 were all converted to float64 by StandardScaler.\n",
      "  return self.fit(X, **fit_params).transform(X)\n"
     ]
    },
    {
     "name": "stdout",
     "output_type": "stream",
     "text": [
      "[[190   0   3   0   0   5   7   3   1   0]\n",
      " [  0 234   2   1   0   0   2   0   3   1]\n",
      " [  1   3 207   6   1   0   2   3   4   1]\n",
      " [  0   0   9 164   0   7   0   1   8   2]\n",
      " [  0   0   4   0 155   1   5   1   0  12]\n",
      " [  2   0   2   7   0 168   0   0   4   3]\n",
      " [  5   0   2   0   3   0 200   0   1   0]\n",
      " [  1   1   3   3   4   0   1 196   3  13]\n",
      " [  1   2   0  10   1   9   1   0 176   2]\n",
      " [  2   0   2   3  14   0   0  15   1 171]]\n",
      "0.8942815953868333\n"
     ]
    },
    {
     "name": "stderr",
     "output_type": "stream",
     "text": [
      "c:\\users\\soroosh-pc\\appdata\\local\\programs\\python\\python37\\lib\\site-packages\\sklearn\\preprocessing\\data.py:617: DataConversionWarning: Data with input dtype int64, float64 were all converted to float64 by StandardScaler.\n",
      "  return self.partial_fit(X, y)\n",
      "c:\\users\\soroosh-pc\\appdata\\local\\programs\\python\\python37\\lib\\site-packages\\sklearn\\base.py:462: DataConversionWarning: Data with input dtype int64, float64 were all converted to float64 by StandardScaler.\n",
      "  return self.fit(X, **fit_params).transform(X)\n"
     ]
    },
    {
     "name": "stdout",
     "output_type": "stream",
     "text": [
      "[[192   0   4   0   1   2   7   1   1   1]\n",
      " [  0 233   2   1   0   1   2   0   4   0]\n",
      " [  2   2 209   5   1   0   2   3   3   1]\n",
      " [  0   0  11 163   0   7   0   2   6   2]\n",
      " [  0   0   3   0 157   1   4   1   0  12]\n",
      " [  1   0   3   7   2 164   0   0   4   5]\n",
      " [  4   0   3   0   3   1 199   0   1   0]\n",
      " [  0   0   7   1   4   0   0 200   3  10]\n",
      " [  2   1   1  15   0   7   0   0 174   2]\n",
      " [  2   0   2   3  14   0   0  13   1 173]]\n",
      "0.8957232099951946\n"
     ]
    },
    {
     "name": "stderr",
     "output_type": "stream",
     "text": [
      "c:\\users\\soroosh-pc\\appdata\\local\\programs\\python\\python37\\lib\\site-packages\\sklearn\\preprocessing\\data.py:617: DataConversionWarning: Data with input dtype int64, float64 were all converted to float64 by StandardScaler.\n",
      "  return self.partial_fit(X, y)\n",
      "c:\\users\\soroosh-pc\\appdata\\local\\programs\\python\\python37\\lib\\site-packages\\sklearn\\base.py:462: DataConversionWarning: Data with input dtype int64, float64 were all converted to float64 by StandardScaler.\n",
      "  return self.fit(X, **fit_params).transform(X)\n"
     ]
    },
    {
     "name": "stdout",
     "output_type": "stream",
     "text": [
      "[[193   0   3   1   0   2   7   1   1   1]\n",
      " [  0 233   2   0   0   0   2   0   5   1]\n",
      " [  1   2 207   6   3   0   3   3   3   0]\n",
      " [  0   0   9 166   0   6   0   2   5   3]\n",
      " [  0   0   3   0 156   1   5   1   0  12]\n",
      " [  1   0   2   9   2 164   0   0   5   3]\n",
      " [  3   0   2   0   2   1 202   0   1   0]\n",
      " [  1   0   6   1   3   0   0 201   3  10]\n",
      " [  1   2   1  11   1   7   0   0 178   1]\n",
      " [  2   0   2   2  14   0   0  15   1 172]]\n",
      "0.8995675156174916\n"
     ]
    },
    {
     "name": "stderr",
     "output_type": "stream",
     "text": [
      "c:\\users\\soroosh-pc\\appdata\\local\\programs\\python\\python37\\lib\\site-packages\\sklearn\\preprocessing\\data.py:617: DataConversionWarning: Data with input dtype int64, float64 were all converted to float64 by StandardScaler.\n",
      "  return self.partial_fit(X, y)\n",
      "c:\\users\\soroosh-pc\\appdata\\local\\programs\\python\\python37\\lib\\site-packages\\sklearn\\base.py:462: DataConversionWarning: Data with input dtype int64, float64 were all converted to float64 by StandardScaler.\n",
      "  return self.fit(X, **fit_params).transform(X)\n"
     ]
    },
    {
     "name": "stdout",
     "output_type": "stream",
     "text": [
      "[[190   0   3   0   1   2   8   1   2   2]\n",
      " [  0 233   2   0   0   0   2   0   5   1]\n",
      " [  1   2 209   5   1   0   4   4   2   0]\n",
      " [  0   0   8 165   0   6   1   2   7   2]\n",
      " [  0   0   3   0 157   1   4   1   0  12]\n",
      " [  2   0   2   8   2 163   0   1   5   3]\n",
      " [  2   0   2   0   3   1 203   0   0   0]\n",
      " [  0   1   4   2   3   0   1 197   4  13]\n",
      " [  1   2   1  14   3   7   0   0 172   2]\n",
      " [  3   0   1   3  15   1   0  15   2 168]]\n",
      "0.8923594425756848\n"
     ]
    },
    {
     "name": "stderr",
     "output_type": "stream",
     "text": [
      "c:\\users\\soroosh-pc\\appdata\\local\\programs\\python\\python37\\lib\\site-packages\\sklearn\\preprocessing\\data.py:617: DataConversionWarning: Data with input dtype int64, float64 were all converted to float64 by StandardScaler.\n",
      "  return self.partial_fit(X, y)\n",
      "c:\\users\\soroosh-pc\\appdata\\local\\programs\\python\\python37\\lib\\site-packages\\sklearn\\base.py:462: DataConversionWarning: Data with input dtype int64, float64 were all converted to float64 by StandardScaler.\n",
      "  return self.fit(X, **fit_params).transform(X)\n"
     ]
    },
    {
     "name": "stdout",
     "output_type": "stream",
     "text": [
      "[[194   0   3   0   0   2   7   1   2   0]\n",
      " [  0 233   2   0   0   0   2   0   5   1]\n",
      " [  3   2 212   2   2   0   2   3   1   1]\n",
      " [  0   0   9 166   0   5   0   2   8   1]\n",
      " [  0   0   5   0 158   1   3   1   0  10]\n",
      " [  1   0   3   8   0 168   0   0   2   4]\n",
      " [  3   0   4   0   4   1 199   0   0   0]\n",
      " [  0   0   9   2   3   0   0 197   2  12]\n",
      " [  1   1   2  10   0   6   1   0 179   2]\n",
      " [  1   0   2   3  16   0   0  14   1 171]]\n",
      "0.9019702066314272\n",
      "With only 23 components, a random forest acheived an accuracy of 0.9019702066314272.\n"
     ]
    }
   ],
   "source": [
    "for comp in range(2, 100):\n",
    "    pca, X_pca = do_pca(comp, X)\n",
    "    acc = fit_random_forest_classifier(X_pca, y)\n",
    "    if acc > .90:\n",
    "        print(\"With only {} components, a random forest acheived an accuracy of {}.\".format(comp, acc))\n",
    "        break"
   ]
  },
  {
   "cell_type": "markdown",
   "metadata": {},
   "source": [
    "`9.` It is possible that extra features in the dataset even lead to overfitting or the [curse of dimensionality](https://stats.stackexchange.com/questions/65379/machine-learning-curse-of-dimensionality-explained).  Do you have evidence of this happening for this dataset?  Can you support your evidence with a visual or table?  To avoid printing out all of the metric results, I created another function called `fit_random_forest_classifier2`.  I ran through a significant number of components to create the visual for the solution, but I strongly recommend you look in the range below 100 principal components!"
   ]
  },
  {
   "cell_type": "code",
   "execution_count": null,
   "metadata": {},
   "outputs": [],
   "source": [
    "# I would highly recommend not running the below code, as it had to run overnight to complete.\n",
    "# Instead, you can run a smaller number of components that still allows you to see enough.\n",
    "\n",
    "\n",
    "#accs = []\n",
    "#comps = []\n",
    "#for comp in range(2, 700):\n",
    "#    comps.append(comp)\n",
    "#    pca, X_pca = do_pca(comp, X)\n",
    "#    acc = fit_random_forest_classifier2(X_pca, y)\n",
    "#    accs.append(acc)"
   ]
  },
  {
   "cell_type": "code",
   "execution_count": null,
   "metadata": {},
   "outputs": [],
   "source": [
    "plt.plot(comps, accs, 'bo');\n",
    "plt.xlabel('Number of Components');\n",
    "plt.ylabel('Accuracy');\n",
    "plt.title('Number of Components by Accuracy');"
   ]
  },
  {
   "cell_type": "code",
   "execution_count": null,
   "metadata": {},
   "outputs": [],
   "source": [
    "# The max accuracy and corresponding number of components\n",
    "np.max(accs), comps[np.where(accs == np.max(accs))[0][0]]"
   ]
  },
  {
   "cell_type": "markdown",
   "metadata": {},
   "source": [
    "**Here you can see that the accuracy quickly levels off.  The maximum accuracy is actually acheived at 61 principal components.  Given the slight negative trend also indicates that the final components are mostly containing noise.  The 61 components here contain the information needed to be able to determine the images nearly to the same ability as using the entire image.  Next, let's take a closer look at exactly what other information we get from PCA, and how we can interpret it.** "
   ]
  },
  {
   "cell_type": "code",
   "execution_count": null,
   "metadata": {},
   "outputs": [],
   "source": []
  }
 ],
 "metadata": {
  "kernelspec": {
   "display_name": "Python 3",
   "language": "python",
   "name": "python3"
  },
  "language_info": {
   "codemirror_mode": {
    "name": "ipython",
    "version": 3
   },
   "file_extension": ".py",
   "mimetype": "text/x-python",
   "name": "python",
   "nbconvert_exporter": "python",
   "pygments_lexer": "ipython3",
   "version": "3.7.1rc2"
  }
 },
 "nbformat": 4,
 "nbformat_minor": 2
}
